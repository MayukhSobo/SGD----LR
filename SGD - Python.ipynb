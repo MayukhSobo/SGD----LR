{
 "cells": [
  {
   "cell_type": "code",
   "execution_count": 31,
   "metadata": {},
   "outputs": [],
   "source": [
    "import numpy as np\n",
    "from sklearn.datasets import load_diabetes\n",
    "import pandas as pd\n",
    "np.set_printoptions(suppress=True)"
   ]
  },
  {
   "cell_type": "code",
   "execution_count": 40,
   "metadata": {},
   "outputs": [
    {
     "data": {
      "text/plain": [
       "(442, 11)"
      ]
     },
     "execution_count": 40,
     "metadata": {},
     "output_type": "execute_result"
    }
   ],
   "source": [
    "data = load_diabetes()\n",
    "df = pd.DataFrame(data.data, columns=data.feature_names)\n",
    "\n",
    "df['diabetes'] = data.target\n",
    "\n",
    "data = df.values\n",
    "\n",
    "data.shape"
   ]
  },
  {
   "cell_type": "code",
   "execution_count": 102,
   "metadata": {},
   "outputs": [],
   "source": [
    "np.random.seed(42)\n",
    "\n",
    "multiplier = np.random.randint(low=5)"
   ]
  },
  {
   "cell_type": "code",
   "execution_count": 103,
   "metadata": {},
   "outputs": [
    {
     "data": {
      "text/plain": [
       "3"
      ]
     },
     "execution_count": 103,
     "metadata": {},
     "output_type": "execute_result"
    }
   ],
   "source": [
    "multiplier"
   ]
  },
  {
   "cell_type": "code",
   "execution_count": 104,
   "metadata": {},
   "outputs": [],
   "source": [
    "np.random.seed(42)\n",
    "\n",
    "W = np.random.random(size=data.shape[1] - 1) * multiplier"
   ]
  },
  {
   "cell_type": "code",
   "execution_count": 105,
   "metadata": {},
   "outputs": [
    {
     "data": {
      "text/plain": [
       "array([1.12362036, 2.85214292, 2.19598183, 1.79597545, 0.46805592,\n",
       "       0.46798356, 0.17425084, 2.59852844, 1.80334504, 2.12421773])"
      ]
     },
     "execution_count": 105,
     "metadata": {},
     "output_type": "execute_result"
    }
   ],
   "source": [
    "W"
   ]
  },
  {
   "cell_type": "code",
   "execution_count": 106,
   "metadata": {},
   "outputs": [],
   "source": [
    "np.random.seed(42)\n",
    "w_o = np.random.randint(low=5, high=50)"
   ]
  },
  {
   "cell_type": "code",
   "execution_count": 107,
   "metadata": {},
   "outputs": [
    {
     "data": {
      "text/plain": [
       "43"
      ]
     },
     "execution_count": 107,
     "metadata": {},
     "output_type": "execute_result"
    }
   ],
   "source": [
    "w_o"
   ]
  },
  {
   "cell_type": "code",
   "execution_count": 108,
   "metadata": {},
   "outputs": [],
   "source": [
    "eta = 1"
   ]
  },
  {
   "cell_type": "code",
   "execution_count": 110,
   "metadata": {},
   "outputs": [],
   "source": [
    "minimum_loss_difference = 0.1"
   ]
  },
  {
   "cell_type": "code",
   "execution_count": 111,
   "metadata": {},
   "outputs": [],
   "source": [
    "n_iters = 1000"
   ]
  },
  {
   "cell_type": "code",
   "execution_count": 144,
   "metadata": {},
   "outputs": [],
   "source": [
    "def SGD(data, weights, intercept, n_iters, batch, eta, min_loss):\n",
    "    \"\"\"\n",
    "    Implements the SGD for Linear Regression without Regularization\n",
    "    \n",
    "    :param data: datasets -> np.ndarray\n",
    "    :param weights: The initial weight vector -> np.array\n",
    "    :param intercept: The initia value of the intercept -> int\n",
    "    :param batch: The batch size for the stochastic Gradient descend -> int\n",
    "    :param eta: The learning rate -> float\n",
    "    :param n_iter: Number of maximum iterations -> int\n",
    "    :param min_loss: Minimum Loss required to decrease each iteration -> float\n",
    "    \"\"\"\n",
    "    sample_index = np.arange(data.shape[0])\n",
    "    np.random.shuffle(sample_index)\n",
    "    sample = data[sample_index[:batch]]\n",
    "    features = sample[:, 0:-1]\n",
    "    labels = sample[:, -1]\n",
    "    for n_iter in range(1, n_iters):\n",
    "        print(f'Converging for iter {n_iter}')\n",
    "        \n",
    "        # Calculate the dW\n",
    "        \n",
    "        # Calculate the dw_0\n",
    "    return features.shape, labels.shape"
   ]
  },
  {
   "cell_type": "code",
   "execution_count": 145,
   "metadata": {
    "scrolled": false
   },
   "outputs": [
    {
     "data": {
      "text/plain": [
       "((100, 10), (100,))"
      ]
     },
     "execution_count": 145,
     "metadata": {},
     "output_type": "execute_result"
    }
   ],
   "source": [
    "SGD(data, W, w_o, n_iters, 100, eta, minimum_loss_difference)"
   ]
  },
  {
   "cell_type": "code",
   "execution_count": 114,
   "metadata": {},
   "outputs": [
    {
     "data": {
      "text/plain": [
       "array([0, 0, 0, 0, 0, 0, 0, 0, 0, 0])"
      ]
     },
     "execution_count": 114,
     "metadata": {},
     "output_type": "execute_result"
    }
   ],
   "source": [
    "np.random.randint(low=0, high=1, size=10)"
   ]
  },
  {
   "cell_type": "code",
   "execution_count": 118,
   "metadata": {},
   "outputs": [],
   "source": []
  },
  {
   "cell_type": "code",
   "execution_count": 119,
   "metadata": {},
   "outputs": [
    {
     "data": {
      "text/plain": [
       "array([ 70, 236, 218, 250,  39, 171, 157, 110,  72,  86, 233, 348, 174,\n",
       "       425, 350, 431, 149, 400, 268,  67, 215, 187, 194, 376,  17, 347,\n",
       "        30, 332, 309, 255, 374, 261, 381, 119, 211,   1,  23, 197, 435,\n",
       "       213,  63, 123, 373,  14, 206,  88, 291, 361, 333, 260,  47, 355,\n",
       "       115, 235, 270, 136, 138, 342, 305, 170,  44, 416, 244, 420, 403,\n",
       "       280, 141, 343, 224, 286, 306,  21, 230, 317, 137,  20, 406, 367,\n",
       "        60, 130, 225, 175, 103,  66, 325, 107, 139, 303, 315, 302, 297,\n",
       "       258, 168, 312, 254, 386,  76, 134, 161, 298, 323, 327, 183, 341,\n",
       "       106, 231,  16, 210, 192, 153, 292, 188,  80, 124, 105, 127, 126,\n",
       "        87,  96, 287, 120, 387, 129, 414, 209, 281,  78, 208, 198, 300,\n",
       "       243,  37, 102, 366,  65, 242, 369, 111, 321, 165, 239, 404,  49,\n",
       "       122, 273, 427, 346,  71, 296, 310,  33,  31, 112, 408,  50, 384,\n",
       "       109,  77, 318, 207,  82, 409, 423, 434, 227, 368, 382,   5,  54,\n",
       "       259, 128, 326, 370,  97, 331,  26,  58, 441,  62,  25,  84,  10,\n",
       "       337, 363, 389, 307, 394, 118, 293, 319,  29,  55, 421, 294, 152,\n",
       "       247, 196, 371,  81, 265, 378,  45, 275, 156, 204, 160, 200, 417,\n",
       "       349, 154, 360,  40, 392,  27, 397,  59, 316, 290, 372, 426,  91,\n",
       "       295,   7, 240, 155, 354, 433, 101, 199, 407, 351, 304, 402, 410,\n",
       "       413, 311, 390,   2, 117,  53, 266, 269, 158, 142,  13,  48, 405,\n",
       "       436, 308, 440,  19, 412, 359, 362, 228, 344, 202, 212,  79, 148,\n",
       "       262, 401, 364, 385, 271, 133, 116, 190, 352,   0, 147,  57, 277,\n",
       "       438, 398, 299, 172, 125, 320, 338, 201,  90, 166, 181, 274, 251,\n",
       "        69, 131, 430, 144, 135, 164,  28,   4, 193, 314, 282, 169, 388,\n",
       "       140, 173,   6, 229, 380,  73,   8, 334, 238, 145, 234, 220, 377,\n",
       "       396, 132, 121, 330, 185,  41, 180, 108, 429,  56, 328, 353,  52,\n",
       "        24, 357, 437, 143,  51, 415, 205, 283, 264,  75, 232, 418, 358,\n",
       "        18, 186, 345,  83,  61, 272, 285, 365, 278,  12, 182, 391,  36,\n",
       "       223, 189, 150, 432, 411,  35,  98, 176, 226, 191, 424, 163, 248,\n",
       "       276, 216,  74, 113, 313, 195, 104, 114, 375,  92, 263,  89, 336,\n",
       "       214,  34, 241, 252, 301,  94,  11, 439,  43,  42, 329, 167,  64,\n",
       "       322, 267, 100, 178,  32, 379, 162, 177, 395, 151, 339, 159, 383,\n",
       "       257, 246, 335, 279,  15,   3, 419, 256,  95, 146, 422, 393, 222,\n",
       "       179, 289, 428, 324, 245,   9, 249,  22, 356, 221, 253, 288,  99,\n",
       "        38, 340, 217, 399, 203, 237,  93,  46,  68, 219, 284, 184,  85])"
      ]
     },
     "execution_count": 119,
     "metadata": {},
     "output_type": "execute_result"
    }
   ],
   "source": [
    "a"
   ]
  },
  {
   "cell_type": "code",
   "execution_count": null,
   "metadata": {},
   "outputs": [],
   "source": []
  }
 ],
 "metadata": {
  "kernelspec": {
   "display_name": "Python 3",
   "language": "python",
   "name": "python3"
  },
  "language_info": {
   "codemirror_mode": {
    "name": "ipython",
    "version": 3
   },
   "file_extension": ".py",
   "mimetype": "text/x-python",
   "name": "python",
   "nbconvert_exporter": "python",
   "pygments_lexer": "ipython3",
   "version": "3.6.6"
  }
 },
 "nbformat": 4,
 "nbformat_minor": 2
}
